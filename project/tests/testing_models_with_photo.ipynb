{
 "cells": [
  {
   "cell_type": "markdown",
   "id": "6a58d8ef",
   "metadata": {},
   "source": [
    "## Завантаження моделей і вагів, та імпорт бібліотек"
   ]
  },
  {
   "cell_type": "code",
   "execution_count": 1,
   "id": "eadb83b3",
   "metadata": {},
   "outputs": [],
   "source": [
    "from tensorflow.keras.utils import load_img, img_to_array\n",
    "# from tensorflow.keras.applications.vgg19 import preprocess_input\n",
    "from tensorflow.keras.applications.resnet50 import preprocess_input\n",
    "from tensorflow.image import resize\n",
    "from keras.models import load_model\n",
    "import numpy as np\n",
    "import skimage\n",
    "import cv2\n",
    "import os\n",
    "import re"
   ]
  },
  {
   "cell_type": "markdown",
   "id": "4013731f",
   "metadata": {},
   "source": [
    "## Тестові фото"
   ]
  },
  {
   "cell_type": "code",
   "execution_count": 181,
   "id": "92c8179f",
   "metadata": {},
   "outputs": [],
   "source": [
    "dir_path = r'C:\\Users\\kuzik\\Desktop\\photos'\n",
    "list_files = os.listdir(dir_path)\n",
    "list_files\n",
    "files  = []\n",
    "for filename in list_files:\n",
    "    files.append(re.sub(r'\\\\', r'/', dir_path + \"/\" + filename))"
   ]
  },
  {
   "cell_type": "markdown",
   "id": "cefbd41d",
   "metadata": {},
   "source": [
    "## Функція обробки фото і передбачення"
   ]
  },
  {
   "cell_type": "code",
   "execution_count": 153,
   "id": "f2e27019",
   "metadata": {},
   "outputs": [],
   "source": [
    "def load_image(filename):\n",
    "    img = load_img(filename)\n",
    "    return img\n",
    "\n",
    "def tf_resize(img):\n",
    "    img = resize(img, (32, 32))\n",
    "    img = img_to_array(img)\n",
    "    img = np.expand_dims(img, axis=0)\n",
    "    img = np.copy(img)                   # Withot copy doesn't work on my PC. Cheсk after deploy.\n",
    "    img = preprocess_input(img).astype(\"float32\") / 255\n",
    "    return img\n",
    "\n",
    "def cv2_resize(img):\n",
    "    img = cv2.resize(img, (32, 32), interpolation = cv2.INTER_AREA)\n",
    "    img = np.expand_dims(img, axis=0)\n",
    "    img = np.copy(img)                   # Withot copy doesn't work on my PC. Cheсk after deploy.\n",
    "    img = preprocess_input(img).astype(\"float32\") / 255\n",
    "    return img\n",
    "\n",
    "def si_resize(img):\n",
    "    img = skimage.transform.resize(img, (32, 32), anti_aliasing=True)\n",
    "    img = np.expand_dims(img, axis=0)\n",
    "    img = np.copy(img)                   # Withot copy doesn't work on my PC. Cheсk after deploy.\n",
    "#     img = preprocess_input(img).astype(\"float32\") / 255\n",
    "    return img\n",
    "\n",
    "def si_rescale(img):\n",
    "    for_rescale = list(img.shape)\n",
    "    for_rescale.sort()\n",
    "    scale_rating = 32 / for_rescale[1]\n",
    "    img = skimage.transform.rescale(skimage.transform.resize(img, (for_rescale[1], for_rescale[1])), scale_rating, multichannel=True)\n",
    "    img = np.expand_dims(img, axis=0)\n",
    "    img = np.copy(img)                   # Withot copy doesn't work on my PC. Cheсk after deploy.\n",
    "#     img = preprocess_input(img).astype(\"float32\") / 255\n",
    "    return img\n",
    "\n",
    "def image_classify(filename, processor, model):\n",
    "    if processor == 'tf':\n",
    "        img = load_image(filename)\n",
    "        img = tf_resize(img)\n",
    "    elif processor == 'cv2':\n",
    "        img = cv2.imread(filename, cv2.IMREAD_UNCHANGED)\n",
    "        img = cv2_resize(img)\n",
    "    elif processor == 'si_resize':\n",
    "        img = skimage.io.imread(filename)\n",
    "        img = si_resize(img)\n",
    "    elif processor == 'si_rescale':\n",
    "        img = skimage.io.imread(filename)\n",
    "        img = si_rescale(img)\n",
    "        \n",
    "    features = model.predict(img)\n",
    "    top = []\n",
    "    top_num = 3\n",
    "    classes = ['airplane', 'automobile', 'bird', 'cat', 'deer', 'dog', 'frog', 'horse', 'ship', 'truck']\n",
    "    for request in range(1):  # num of foto or objects on foto\n",
    "        classes_request = classes\n",
    "        features_request = features[0]\n",
    "        rang = 1\n",
    "        for i in range(top_num):\n",
    "            pred = np.argmax(features_request)\n",
    "            top.append([rang, classes_request[pred], round(features_request[np.argmax(features_request)], 4)])\n",
    "            features_request = np.delete(features_request, np.argmax(features_request))\n",
    "            classes_request.remove(classes_request[pred])\n",
    "            rang +=1\n",
    "    return top\n",
    "\n",
    "    "
   ]
  },
  {
   "cell_type": "markdown",
   "id": "2e3d8ec2",
   "metadata": {},
   "source": [
    "## Перевірка роботи моделі з стисканням від tensorflow та cv2"
   ]
  },
  {
   "cell_type": "code",
   "execution_count": 149,
   "id": "997f0fa6",
   "metadata": {},
   "outputs": [],
   "source": [
    "files = ['C:/Users/kuzik/Desktop/airplane1.jpeg', 'C:/Users/kuzik/Desktop/automobile1.jpg', 'C:/Users/kuzik/Desktop/bird1.jfif', \n",
    "         'C:/Users/kuzik/Desktop/cat1.jfif', 'C:/Users/kuzik/Desktop/deer1.jfif', 'C:/Users/kuzik/Desktop/dog1.jfif', \n",
    "         'C:/Users/kuzik/Desktop/frog1.jfif', 'C:/Users/kuzik/Desktop/horse1.jfif', 'C:/Users/kuzik/Desktop/ship1.jfif', \n",
    "         'C:/Users/kuzik/Desktop/truck1.jfif']\n",
    "\n",
    "def obj_on_file(file):\n",
    "    file_name = file.split(\"/\")[-1]\n",
    "    file_name = file_name.split(\".\")[0:-1]\n",
    "    find = re.match(r'\\D+', str(file_name)).group()[2:]\n",
    "    return find\n",
    "\n",
    "def testing(path, processor, model, print_result = False):\n",
    "    result = []\n",
    "    obj = []\n",
    "    for file in path:\n",
    "        o = obj_on_file(file)\n",
    "        predict_img = image_classify(file, processor, model = model)\n",
    "        obj.append(o)\n",
    "        result.append(predict_img[0][1])\n",
    "        \n",
    "        if print_result == True:\n",
    "            print(\"\")\n",
    "            print(\"Must be: \", obj)\n",
    "            print(predict_img)\n",
    "        \n",
    "    return result, obj\n",
    "\n",
    "def accuracy_of_model(path, processor, model, print_result = False):\n",
    "    result_test, answer_test = testing(path = path, processor = processor, model = model, print_result = print_result)\n",
    "    list_of_results = []\n",
    "    for num in range(len(result_test)):\n",
    "        if result_test[num] == answer_test[num]:\n",
    "            list_of_results.append(1)\n",
    "        else:\n",
    "            list_of_results.append(0)\n",
    "    return list_of_results\n",
    "    \n",
    "\n",
    "def compare_processors(path, model, processor=[], print_result=False):\n",
    "    result = []\n",
    "    for el in processor:\n",
    "        model_accuracy = accuracy_of_model(path, model = model, processor = el, print_result = print_result)\n",
    "        accuracy_percent = model_accuracy.count(1) / len(model_accuracy) * 100\n",
    "        result.append(f'Using {el} for resize photo, prediction accuracy of your photo set is: {accuracy_percent} %')\n",
    "    return result"
   ]
  },
  {
   "cell_type": "markdown",
   "id": "05d3c2d9",
   "metadata": {},
   "source": [
    "## Завантаження моделі"
   ]
  },
  {
   "cell_type": "code",
   "execution_count": 9,
   "id": "a5d84c38",
   "metadata": {},
   "outputs": [],
   "source": [
    "model = load_model(\"C:/Users/kuzik/Desktop/project3/models/model_from_Susana.h5\")\n",
    "model.load_weights(\"C:/Users/kuzik/Desktop/project3/models/weights_from_Susana.h5\")"
   ]
  },
  {
   "cell_type": "code",
   "execution_count": 183,
   "id": "f078674f",
   "metadata": {},
   "outputs": [
    {
     "name": "stdout",
     "output_type": "stream",
     "text": [
      "1/1 [==============================] - 0s 26ms/step\n",
      "1/1 [==============================] - 0s 27ms/step\n",
      "1/1 [==============================] - 0s 26ms/step\n",
      "1/1 [==============================] - 0s 25ms/step\n",
      "1/1 [==============================] - 0s 25ms/step\n",
      "1/1 [==============================] - 0s 26ms/step\n",
      "1/1 [==============================] - 0s 25ms/step\n",
      "1/1 [==============================] - 0s 29ms/step\n",
      "1/1 [==============================] - 0s 25ms/step\n",
      "1/1 [==============================] - 0s 26ms/step\n",
      "1/1 [==============================] - 0s 26ms/step\n",
      "1/1 [==============================] - 0s 27ms/step\n",
      "1/1 [==============================] - 0s 26ms/step\n",
      "1/1 [==============================] - 0s 26ms/step\n",
      "1/1 [==============================] - 0s 27ms/step\n",
      "1/1 [==============================] - 0s 30ms/step\n",
      "1/1 [==============================] - 0s 29ms/step\n",
      "1/1 [==============================] - 0s 30ms/step\n",
      "1/1 [==============================] - 0s 27ms/step\n",
      "1/1 [==============================] - 0s 30ms/step\n",
      "1/1 [==============================] - 0s 29ms/step\n",
      "1/1 [==============================] - 0s 28ms/step\n",
      "1/1 [==============================] - 0s 27ms/step\n",
      "1/1 [==============================] - 0s 26ms/step\n",
      "1/1 [==============================] - 0s 25ms/step\n",
      "1/1 [==============================] - 0s 25ms/step\n",
      "1/1 [==============================] - 0s 26ms/step\n",
      "1/1 [==============================] - 0s 27ms/step\n",
      "1/1 [==============================] - 0s 25ms/step\n",
      "1/1 [==============================] - 0s 25ms/step\n",
      "1/1 [==============================] - 0s 27ms/step\n"
     ]
    },
    {
     "name": "stderr",
     "output_type": "stream",
     "text": [
      "C:\\Users\\kuzik\\AppData\\Local\\Temp\\ipykernel_8800\\888673498.py:31: FutureWarning: `multichannel` is a deprecated argument name for `rescale`. It will be removed in version 1.0. Please use `channel_axis` instead.\n",
      "  img = skimage.transform.rescale(skimage.transform.resize(img, (for_rescale[1], for_rescale[1])), scale_rating, multichannel=True)\n"
     ]
    },
    {
     "name": "stdout",
     "output_type": "stream",
     "text": [
      "1/1 [==============================] - 0s 24ms/step\n",
      "1/1 [==============================] - 0s 25ms/step\n",
      "1/1 [==============================] - 0s 26ms/step\n",
      "1/1 [==============================] - 0s 26ms/step\n",
      "1/1 [==============================] - 0s 27ms/step\n",
      "1/1 [==============================] - 0s 25ms/step\n",
      "1/1 [==============================] - 0s 26ms/step\n",
      "1/1 [==============================] - 0s 25ms/step\n",
      "1/1 [==============================] - 0s 27ms/step\n"
     ]
    }
   ],
   "source": [
    "x = compare_processors(path=files, processor=['tf', 'cv2', 'si_resize', 'si_rescale'], model=model)"
   ]
  },
  {
   "cell_type": "code",
   "execution_count": 184,
   "id": "9e37a33a",
   "metadata": {},
   "outputs": [
    {
     "name": "stdout",
     "output_type": "stream",
     "text": [
      "Using tf for resize photo, prediction accuracy of your photo set is: 50.0 %\n",
      "Using cv2 for resize photo, prediction accuracy of your photo set is: 60.0 %\n",
      "Using si_resize for resize photo, prediction accuracy of your photo set is: 80.0 %\n",
      "Using si_rescale for resize photo, prediction accuracy of your photo set is: 80.0 %\n"
     ]
    }
   ],
   "source": [
    "for el in x:\n",
    "    print(el)"
   ]
  },
  {
   "cell_type": "code",
   "execution_count": 138,
   "id": "174a2e0f",
   "metadata": {},
   "outputs": [],
   "source": []
  },
  {
   "cell_type": "code",
   "execution_count": null,
   "id": "c1705479",
   "metadata": {},
   "outputs": [],
   "source": []
  }
 ],
 "metadata": {
  "kernelspec": {
   "display_name": "Python 3 (ipykernel)",
   "language": "python",
   "name": "python3"
  },
  "language_info": {
   "codemirror_mode": {
    "name": "ipython",
    "version": 3
   },
   "file_extension": ".py",
   "mimetype": "text/x-python",
   "name": "python",
   "nbconvert_exporter": "python",
   "pygments_lexer": "ipython3",
   "version": "3.9.12"
  }
 },
 "nbformat": 4,
 "nbformat_minor": 5
}
