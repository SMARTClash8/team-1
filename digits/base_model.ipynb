{
 "cells": [
  {
   "cell_type": "code",
   "execution_count": 24,
   "id": "9c188f57",
   "metadata": {},
   "outputs": [
    {
     "name": "stdout",
     "output_type": "stream",
     "text": [
      "WARNING:tensorflow:6 out of the last 6 calls to <function Model.make_predict_function.<locals>.predict_function at 0x0000021043CCA790> triggered tf.function retracing. Tracing is expensive and the excessive number of tracings could be due to (1) creating @tf.function repeatedly in a loop, (2) passing tensors with different shapes, (3) passing Python objects instead of tensors. For (1), please define your @tf.function outside of the loop. For (2), @tf.function has reduce_retracing=True option that can avoid unnecessary retracing. For (3), please refer to https://www.tensorflow.org/guide/function#controlling_retracing and https://www.tensorflow.org/api_docs/python/tf/function for  more details.\n",
      "1/1 [==============================] - 0s 178ms/step\n",
      "1. It is horse with 0.8715000152587891 chance\n",
      "2. It is cat with 0.06809999793767929 chance\n",
      "3. It is truck with 0.02500000037252903 chance\n"
     ]
    }
   ],
   "source": [
    "# from tensorflow.keras.utils import load_img, img_to_array\n",
    "# from tensorflow.keras.applications.vgg19 import preprocess_input\n",
    "# from tensorflow.image import resize\n",
    "# from keras.models import load_model\n",
    "# import numpy as np\n",
    "\n",
    "# model = load_model('C:/Users/kuzik/Desktop/project3/models/base_model.h5')\n",
    "\n",
    "\n",
    "def load_image(filename):\n",
    "    img = load_img(filename)\n",
    "    img = resize(img, (32, 32))\n",
    "    img = img_to_array(img)\n",
    "    img = np.expand_dims(img, axis=0)\n",
    "    x = np.copy(img)\n",
    "    x = preprocess_input(x).astype(\"float32\") / 255\n",
    "    return x\n",
    "\n",
    "def image_classify(filename):\n",
    "    img = load_image(filename)\n",
    "    features = model.predict(img)\n",
    "    top = []\n",
    "    top_num = 3\n",
    "    classes = ['airplane', 'automobile', 'bird', 'cat', 'deer', 'dog', 'frog', 'horse', 'ship', 'truck']\n",
    "    for request in range(1):  # num of foto or objects on foto\n",
    "        classes_request = classes\n",
    "        features_request = features[0]\n",
    "        rang = 1\n",
    "        for i in range(top_num):\n",
    "            pred = np.argmax(features_request)\n",
    "            top.append([rang, classes_request[pred], round(features_request[np.argmax(features_request)], 4)])\n",
    "            features_request = np.delete(features_request, np.argmax(features_request))\n",
    "            classes_request.remove(classes_request[pred])\n",
    "            rang +=1\n",
    "    i = 0\n",
    "    for el in top:\n",
    "        print(f\"{top[i][0]}. It is {top[i][1]} with {top[i][2]} chance\")\n",
    "        i += 1\n",
    "\n",
    "\n",
    "image_classify('C:/Users/kuzik/Desktop/project3/models/2.jpg')"
   ]
  }
 ],
 "metadata": {
  "kernelspec": {
   "display_name": "Python 3 (ipykernel)",
   "language": "python",
   "name": "python3"
  },
  "language_info": {
   "codemirror_mode": {
    "name": "ipython",
    "version": 3
   },
   "file_extension": ".py",
   "mimetype": "text/x-python",
   "name": "python",
   "nbconvert_exporter": "python",
   "pygments_lexer": "ipython3",
   "version": "3.10.8"
  }
 },
 "nbformat": 4,
 "nbformat_minor": 5
}
