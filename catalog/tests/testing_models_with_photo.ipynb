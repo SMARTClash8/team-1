{
 "cells": [
  {
   "cell_type": "markdown",
   "id": "6a58d8ef",
   "metadata": {},
   "source": [
    "## Завантаження моделей і вагів, та імпорт бібліотек"
   ]
  },
  {
   "cell_type": "code",
   "execution_count": 1,
   "id": "eadb83b3",
   "metadata": {},
   "outputs": [],
   "source": [
    "from tensorflow.keras.utils import load_img, img_to_array\n",
    "# from tensorflow.keras.applications.vgg19 import preprocess_input\n",
    "from tensorflow.keras.applications.resnet50 import preprocess_input\n",
    "from tensorflow.image import resize\n",
    "from keras.models import load_model\n",
    "import numpy as np\n",
    "import cv2\n",
    "import os\n",
    "import re"
   ]
  },
  {
   "cell_type": "markdown",
   "id": "cefbd41d",
   "metadata": {},
   "source": [
    "## Функція обробки фото і передбачення"
   ]
  },
  {
   "cell_type": "code",
   "execution_count": 66,
   "id": "f2e27019",
   "metadata": {},
   "outputs": [],
   "source": [
    "def load_image(filename):\n",
    "    img = load_img(filename)\n",
    "    return img\n",
    "\n",
    "def tf_resize(img):\n",
    "    img = resize(img, (32, 32))\n",
    "    img = img_to_array(img)\n",
    "    img = np.expand_dims(img, axis=0)\n",
    "    img = np.copy(img)                   # Withot copy doesn't work on my PC. Cheсk after deploy.\n",
    "    img = preprocess_input(img).astype(\"float32\") / 255\n",
    "    return img\n",
    "\n",
    "def cv2_resize(img):\n",
    "    img = cv2.resize(img, (32, 32), interpolation = cv2.INTER_AREA)\n",
    "    img = np.expand_dims(img, axis=0)\n",
    "    img = np.copy(img)                   # Withot copy doesn't work on my PC. Cheсk after deploy.\n",
    "    img = preprocess_input(img).astype(\"float32\") / 255\n",
    "    return img\n",
    "\n",
    "def image_classify(filename, processor, model):\n",
    "    if processor == 'tf':\n",
    "        img = load_image(filename)\n",
    "        img = tf_resize(img)\n",
    "    elif processor == 'cv2':\n",
    "        img = cv2.imread(filename, cv2.IMREAD_UNCHANGED)\n",
    "        img = cv2_resize(img)\n",
    "        \n",
    "    features = model.predict(img)\n",
    "    top = []\n",
    "    top_num = 3\n",
    "    classes = ['airplane', 'automobile', 'bird', 'cat', 'deer', 'dog', 'frog', 'horse', 'ship', 'truck']\n",
    "    for request in range(1):  # num of foto or objects on foto\n",
    "        classes_request = classes\n",
    "        features_request = features[0]\n",
    "        rang = 1\n",
    "        for i in range(top_num):\n",
    "            pred = np.argmax(features_request)\n",
    "            top.append([rang, classes_request[pred], round(features_request[np.argmax(features_request)], 4)])\n",
    "            features_request = np.delete(features_request, np.argmax(features_request))\n",
    "            classes_request.remove(classes_request[pred])\n",
    "            rang +=1\n",
    "    return top\n",
    "\n",
    "    "
   ]
  },
  {
   "cell_type": "markdown",
   "id": "2e3d8ec2",
   "metadata": {},
   "source": [
    "## Перевірка роботи моделі з стисканням від tensorflow та cv2"
   ]
  },
  {
   "cell_type": "code",
   "execution_count": 133,
   "id": "997f0fa6",
   "metadata": {},
   "outputs": [],
   "source": [
    "files = ['C:/Users/kuzik/Desktop/airplane1.jpeg', 'C:/Users/kuzik/Desktop/automobile1.jpg', 'C:/Users/kuzik/Desktop/bird1.jfif', \n",
    "         'C:/Users/kuzik/Desktop/cat1.jfif', 'C:/Users/kuzik/Desktop/deer1.jfif', 'C:/Users/kuzik/Desktop/dog1.jfif', \n",
    "         'C:/Users/kuzik/Desktop/frog1.jfif', 'C:/Users/kuzik/Desktop/horse1.jfif', 'C:/Users/kuzik/Desktop/ship1.jfif', \n",
    "         'C:/Users/kuzik/Desktop/truck1.jfif']\n",
    "\n",
    "def obj_on_file(file):\n",
    "    file_name = file.split(\"/\")[-1]\n",
    "    file_name = file_name.split(\".\")[0:-1]\n",
    "    find = re.match(r'\\D+', str(file_name)).group()[2:]\n",
    "    return find\n",
    "\n",
    "def testing(path, processor, model, print_result = False):\n",
    "    result = []\n",
    "    obj = []\n",
    "    for file in path:\n",
    "        o = obj_on_file(file)\n",
    "        predict_img = image_classify(file, processor, model = model)\n",
    "        obj.append(o)\n",
    "        result.append(predict_img[0][1])\n",
    "        \n",
    "        if print_result == True:\n",
    "            print(\"\")\n",
    "            print(\"Must be: \", obj)\n",
    "            print(predict_img)\n",
    "        \n",
    "    return result, obj\n",
    "\n",
    "def accuracy_of_model(path, processor, model, print_result = False):\n",
    "    result_test, answer_test = testing(path = path, processor = processor, model = model, print_result = print_result)\n",
    "    list_of_results = []\n",
    "    for num in range(len(result_test)):\n",
    "        if result_test[num] == answer_test[num]:\n",
    "            list_of_results.append(1)\n",
    "        else:\n",
    "            list_of_results.append(0)\n",
    "    return list_of_results\n",
    "    \n",
    "\n",
    "def compare_processors(path, model, processor=[], print_result=False):\n",
    "    result = []\n",
    "    for el in processor:\n",
    "        model_accuracy = accuracy_of_model(path, model = model, processor = el, print_result = print_result)\n",
    "        accuracy_percent = model_accuracy.count(1) / len(model_accuracy) * 100\n",
    "        result.append(f'Using {el} for resize photo, prediction accuracy of your photo set is: {accuracy_percent} %')\n",
    "    return result"
   ]
  },
  {
   "cell_type": "markdown",
   "id": "9b0d4b0e",
   "metadata": {},
   "source": [
    "## Завантаження моделі"
   ]
  },
  {
   "cell_type": "code",
   "execution_count": 9,
   "id": "a8bf3b92",
   "metadata": {},
   "outputs": [],
   "source": [
    "model = load_model(\"C:/Users/kuzik/Desktop/project3/models/model_from_Susana.h5\")\n",
    "model.load_weights(\"C:/Users/kuzik/Desktop/project3/models/weights_from_Susana.h5\")"
   ]
  },
  {
   "cell_type": "code",
   "execution_count": 134,
   "id": "f078674f",
   "metadata": {},
   "outputs": [
    {
     "name": "stdout",
     "output_type": "stream",
     "text": [
      "1/1 [==============================] - 0s 26ms/step\n",
      "1/1 [==============================] - 0s 27ms/step\n",
      "1/1 [==============================] - 0s 25ms/step\n",
      "1/1 [==============================] - 0s 29ms/step\n",
      "1/1 [==============================] - 0s 28ms/step\n",
      "1/1 [==============================] - 0s 27ms/step\n",
      "1/1 [==============================] - 0s 26ms/step\n",
      "1/1 [==============================] - 0s 27ms/step\n",
      "1/1 [==============================] - 0s 28ms/step\n",
      "1/1 [==============================] - 0s 26ms/step\n",
      "1/1 [==============================] - 0s 26ms/step\n",
      "1/1 [==============================] - 0s 26ms/step\n",
      "1/1 [==============================] - 0s 26ms/step\n",
      "1/1 [==============================] - 0s 25ms/step\n",
      "1/1 [==============================] - 0s 26ms/step\n",
      "1/1 [==============================] - 0s 30ms/step\n",
      "1/1 [==============================] - 0s 25ms/step\n",
      "1/1 [==============================] - 0s 26ms/step\n",
      "1/1 [==============================] - 0s 26ms/step\n",
      "1/1 [==============================] - 0s 26ms/step\n"
     ]
    }
   ],
   "source": [
    "x = compare_processors(path=files, processor=['tf', 'cv2'], model=model)"
   ]
  },
  {
   "cell_type": "code",
   "execution_count": 137,
   "id": "f1a405d1",
   "metadata": {},
   "outputs": [
    {
     "name": "stdout",
     "output_type": "stream",
     "text": [
      "Using tf for resize photo, prediction accuracy of your photo set is: 50.0 %\n",
      "Using cv2 for resize photo, prediction accuracy of your photo set is: 60.0 %\n"
     ]
    }
   ],
   "source": [
    "for el in x:\n",
    "    print(el)"
   ]
  },
  {
   "cell_type": "code",
   "execution_count": null,
   "id": "7a6d80d3",
   "metadata": {},
   "outputs": [],
   "source": []
  }
 ],
 "metadata": {
  "kernelspec": {
   "display_name": "Python 3 (ipykernel)",
   "language": "python",
   "name": "python3"
  },
  "language_info": {
   "codemirror_mode": {
    "name": "ipython",
    "version": 3
   },
   "file_extension": ".py",
   "mimetype": "text/x-python",
   "name": "python",
   "nbconvert_exporter": "python",
   "pygments_lexer": "ipython3",
   "version": "3.9.12"
  }
 },
 "nbformat": 4,
 "nbformat_minor": 5
}
